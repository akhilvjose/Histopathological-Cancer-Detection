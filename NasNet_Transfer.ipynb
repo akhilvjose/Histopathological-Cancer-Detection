{
  "nbformat": 4,
  "nbformat_minor": 0,
  "metadata": {
    "colab": {
      "name": "Histopathologic Cancer Detection.ipynb",
      "version": "0.3.2",
      "provenance": [],
      "collapsed_sections": [],
      "include_colab_link": true
    },
    "kernelspec": {
      "name": "python3",
      "display_name": "Python 3"
    },
    "accelerator": "GPU"
  },
  "cells": [
    {
      "cell_type": "markdown",
      "metadata": {
        "id": "view-in-github",
        "colab_type": "text"
      },
      "source": [
        "<a href=\"https://colab.research.google.com/github/akhilvjose/Histopathological-Cancer-Detection/blob/master/NasNet_Transfer.ipynb\" target=\"_parent\"><img src=\"https://colab.research.google.com/assets/colab-badge.svg\" alt=\"Open In Colab\"/></a>"
      ]
    },
    {
      "metadata": {
        "id": "0TAGpJBT2NsD",
        "colab_type": "code",
        "outputId": "8d08ac1d-9a2f-44a1-dd5c-5a0eed84c01c",
        "colab": {
          "resources": {
            "http://localhost:8080/nbextensions/google.colab/files.js": {
              "data": "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",
              "ok": true,
              "headers": [
                [
                  "content-type",
                  "application/javascript"
                ]
              ],
              "status": 200,
              "status_text": ""
            }
          },
          "base_uri": "https://localhost:8080/",
          "height": 89
        }
      },
      "cell_type": "code",
      "source": [
        "# Run this cell and select the kaggle.json file downloaded\n",
        "# from the Kaggle account settings page.\n",
        "from google.colab import files\n",
        "files.upload()"
      ],
      "execution_count": 0,
      "outputs": [
        {
          "output_type": "display_data",
          "data": {
            "text/html": [
              "\n",
              "     <input type=\"file\" id=\"files-950991dc-5161-43e5-b86d-ecfee3e8a4e5\" name=\"files[]\" multiple disabled />\n",
              "     <output id=\"result-950991dc-5161-43e5-b86d-ecfee3e8a4e5\">\n",
              "      Upload widget is only available when the cell has been executed in the\n",
              "      current browser session. Please rerun this cell to enable.\n",
              "      </output>\n",
              "      <script src=\"/nbextensions/google.colab/files.js\"></script> "
            ],
            "text/plain": [
              "<IPython.core.display.HTML object>"
            ]
          },
          "metadata": {
            "tags": []
          }
        },
        {
          "output_type": "stream",
          "text": [
            "Saving kaggle.json to kaggle.json\n"
          ],
          "name": "stdout"
        },
        {
          "output_type": "execute_result",
          "data": {
            "text/plain": [
              "{'kaggle.json': b'{\"username\":\"akhilvjose\",\"key\":\"71f5d23a7e193f84b6b261dca03a4434\"}'}"
            ]
          },
          "metadata": {
            "tags": []
          },
          "execution_count": 6
        }
      ]
    },
    {
      "metadata": {
        "id": "CUMyJ1F12Peb",
        "colab_type": "code",
        "outputId": "ed0c9e09-5432-48ce-f236-745d972c2d0a",
        "colab": {
          "base_uri": "https://localhost:8080/",
          "height": 34
        }
      },
      "cell_type": "code",
      "source": [
        "!ls -lha kaggle.json"
      ],
      "execution_count": 0,
      "outputs": [
        {
          "output_type": "stream",
          "text": [
            "-rw-r--r-- 1 root root 66 Jan  9 07:51 kaggle.json\n"
          ],
          "name": "stdout"
        }
      ]
    },
    {
      "metadata": {
        "id": "EzHyB8Qz3I1m",
        "colab_type": "code",
        "colab": {}
      },
      "cell_type": "code",
      "source": [
        "!pip install -q kaggle"
      ],
      "execution_count": 0,
      "outputs": []
    },
    {
      "metadata": {
        "id": "zMW68tgw3K_N",
        "colab_type": "code",
        "colab": {}
      },
      "cell_type": "code",
      "source": [
        "# The Kaggle API client expects this file to be in ~/.kaggle,\n",
        "# so move it there.\n",
        "!mkdir -p ~/.kaggle\n",
        "!cp kaggle.json ~/.kaggle/\n",
        "\n",
        "# This permissions change avoids a warning on Kaggle tool startup.\n",
        "!chmod 600 ~/.kaggle/kaggle.json"
      ],
      "execution_count": 0,
      "outputs": []
    },
    {
      "metadata": {
        "id": "KEmw6Lea6tV9",
        "colab_type": "code",
        "outputId": "dc1793f1-c610-43a5-f89e-31b30105cddb",
        "colab": {
          "base_uri": "https://localhost:8080/",
          "height": 136
        }
      },
      "cell_type": "code",
      "source": [
        "!kaggle competitions list -s cancer"
      ],
      "execution_count": 1,
      "outputs": [
        {
          "output_type": "stream",
          "text": [
            "ref                                        deadline             category        reward  teamCount  userHasEntered  \n",
            "-----------------------------------------  -------------------  ----------  ----------  ---------  --------------  \n",
            "msk-redefining-cancer-treatment            2017-10-02 23:59:00  Research       $15,000       1386           False  \n",
            "histopathologic-cancer-detection           2019-03-30 23:59:00  Playground   Knowledge        357            True  \n",
            "intel-mobileodt-cervical-cancer-screening  2017-06-21 23:59:00  Featured      $100,000        848           False  \n",
            "data-science-bowl-2017                     2017-04-12 23:59:00  Featured    $1,000,000       1972           False  \n",
            "cervical-cancer-screening                  2016-02-01 23:59:00  Featured      $100,000         40           False  \n"
          ],
          "name": "stdout"
        }
      ]
    },
    {
      "metadata": {
        "id": "WJqZBQed3QJ3",
        "colab_type": "code",
        "outputId": "0af2e37e-867c-4720-d04a-2bd2da17d5cf",
        "colab": {
          "base_uri": "https://localhost:8080/",
          "height": 221
        }
      },
      "cell_type": "code",
      "source": [
        "!kaggle competitions download -c histopathologic-cancer-detection"
      ],
      "execution_count": 0,
      "outputs": [
        {
          "output_type": "stream",
          "text": [
            "Downloading sample_submission.csv.zip to /content\n",
            "\r  0% 0.00/1.33M [00:00<?, ?B/s]\n",
            "100% 1.33M/1.33M [00:00<00:00, 43.7MB/s]\n",
            "Downloading train_labels.csv.zip to /content\n",
            "  0% 0.00/5.10M [00:00<?, ?B/s]\n",
            "100% 5.10M/5.10M [00:00<00:00, 47.0MB/s]\n",
            "Downloading test.zip to /content\n",
            " 99% 1.30G/1.30G [00:12<00:00, 123MB/s]\n",
            "100% 1.30G/1.30G [00:12<00:00, 109MB/s]\n",
            "Downloading train.zip to /content\n",
            "100% 4.97G/4.98G [00:45<00:00, 138MB/s]\n",
            "100% 4.98G/4.98G [00:45<00:00, 118MB/s]\n"
          ],
          "name": "stdout"
        }
      ]
    },
    {
      "metadata": {
        "id": "K4YqNi1q7PQP",
        "colab_type": "code",
        "outputId": "476de987-8648-457e-80a4-5f0f81fc58d6",
        "colab": {
          "base_uri": "https://localhost:8080/",
          "height": 51
        }
      },
      "cell_type": "code",
      "source": [
        "!ls"
      ],
      "execution_count": 0,
      "outputs": [
        {
          "output_type": "stream",
          "text": [
            "kaggle.json  sample_submission.csv.zip\ttrain_labels.csv.zip\n",
            "sample_data  test.zip\t\t\ttrain.zip\n"
          ],
          "name": "stdout"
        }
      ]
    },
    {
      "metadata": {
        "id": "-xusQmB_76N8",
        "colab_type": "code",
        "outputId": "22a985b6-3769-4b8a-8db0-a0dd9c7c1e2a",
        "colab": {
          "base_uri": "https://localhost:8080/",
          "height": 187
        }
      },
      "cell_type": "code",
      "source": [
        "import zipfile\n",
        "with zipfile.ZipFile('train.zip', 'r') as zip_ref:\n",
        "  zip_ref.extractall('train')\n",
        "!rm train.zip\n",
        "with zipfile.ZipFile('test.zip', 'r') as zip_ref:\n",
        "  zip_ref.extractall('test')\n",
        "!rm test.zip\n",
        "with zipfile.ZipFile('train_labels.csv.zip', 'r') as zip_ref:\n",
        "  zip_ref.extractall('train_labels.csv')\n",
        "!rm train_labels.csv.zip\n",
        "!ls -al"
      ],
      "execution_count": 0,
      "outputs": [
        {
          "output_type": "stream",
          "text": [
            "total 21912\n",
            "drwxr-xr-x 1 root root     4096 Jan  9 07:56 .\n",
            "drwxr-xr-x 1 root root     4096 Jan  9 07:12 ..\n",
            "drwxr-xr-x 4 root root     4096 Jan  3 17:15 .config\n",
            "-rw-r--r-- 1 root root       66 Jan  9 07:51 kaggle.json\n",
            "drwxr-xr-x 1 root root     4096 Jan  3 17:15 sample_data\n",
            "-rw-r--r-- 1 root root  1394488 Jan  9 07:51 sample_submission.csv.zip\n",
            "drwxr-xr-x 2 root root  4300800 Jan  9 07:56 test\n",
            "drwxr-xr-x 2 root root 16711680 Jan  9 07:56 train\n",
            "drwxr-xr-x 2 root root     4096 Jan  9 07:56 train_labels.csv\n"
          ],
          "name": "stdout"
        }
      ]
    },
    {
      "metadata": {
        "id": "Fbb7lO1YBpKZ",
        "colab_type": "code",
        "outputId": "ca96b718-c746-4622-93a5-0805b605728b",
        "colab": {
          "base_uri": "https://localhost:8080/",
          "height": 34
        }
      },
      "cell_type": "code",
      "source": [
        "import os\n",
        "print(os.listdir())"
      ],
      "execution_count": 4,
      "outputs": [
        {
          "output_type": "stream",
          "text": [
            "['.config', 'kaggle.json', 'sample_submission.csv.zip', 'test', 'train_labels.csv', 'train', 'sample_data']\n"
          ],
          "name": "stdout"
        }
      ]
    },
    {
      "metadata": {
        "id": "8f8-ZRLA_cwR",
        "colab_type": "code",
        "outputId": "75f3565a-ff30-46bc-e767-9db655355e91",
        "colab": {
          "base_uri": "https://localhost:8080/",
          "height": 34
        }
      },
      "cell_type": "code",
      "source": [
        "!ls train_labels.csv/train_labels.csv"
      ],
      "execution_count": 5,
      "outputs": [
        {
          "output_type": "stream",
          "text": [
            "train_labels.csv/train_labels.csv\n"
          ],
          "name": "stdout"
        }
      ]
    },
    {
      "metadata": {
        "id": "3rx5FIMz3Zso",
        "colab_type": "code",
        "colab": {}
      },
      "cell_type": "code",
      "source": [
        "import numpy as np # linear algebra\n",
        "import pandas as pd # data processing, CSV file I/O (e.g. pd.read_csv)\n",
        "\n",
        "from keras.models import Model\n",
        "from keras.preprocessing.image import ImageDataGenerator\n",
        "from keras.layers import Input, Conv2D, GlobalAveragePooling2D, Dropout, Dense, MaxPooling2D, BatchNormalization, Activation,Flatten,GlobalMaxPooling2D, Concatenate\n",
        "from keras.optimizers import Adam\n",
        "from tensorflow.keras.callbacks import ModelCheckpoint\n",
        "#from keras.applications.resnet50 import ResNet50\n",
        "#from keras.applications.resnet50 import preprocess_input\n",
        "# from keras.applications.vgg16 import VGG16\n",
        "# from keras.applications.vgg16 import preprocess_input\n",
        "\n",
        "from keras.applications.nasnet import NASNetMobile, NASNetLarge, preprocess_input"
      ],
      "execution_count": 0,
      "outputs": []
    },
    {
      "metadata": {
        "id": "YkGbKiM4DNmL",
        "colab_type": "code",
        "colab": {}
      },
      "cell_type": "code",
      "source": [
        "# import csv\n",
        "# with open('train_labels.csv', 'rb') as csvfile:\n",
        "#   train_df = csv.reader(csvfile)"
      ],
      "execution_count": 0,
      "outputs": []
    },
    {
      "metadata": {
        "id": "tYLqt4ctGzkj",
        "colab_type": "code",
        "colab": {}
      },
      "cell_type": "code",
      "source": [
        ""
      ],
      "execution_count": 0,
      "outputs": []
    },
    {
      "metadata": {
        "id": "hY2bR1M8_rvg",
        "colab_type": "code",
        "outputId": "500573c1-5715-48c4-c939-803c7f8ce5c8",
        "colab": {
          "base_uri": "https://localhost:8080/",
          "height": 204
        }
      },
      "cell_type": "code",
      "source": [
        "train_df = pd.read_csv(\"train_labels.csv/train_labels.csv\") # Since we unziped the file to train_labels.csv,it will be a directory\n",
        "train_df.head()"
      ],
      "execution_count": 8,
      "outputs": [
        {
          "output_type": "execute_result",
          "data": {
            "text/html": [
              "<div>\n",
              "<style scoped>\n",
              "    .dataframe tbody tr th:only-of-type {\n",
              "        vertical-align: middle;\n",
              "    }\n",
              "\n",
              "    .dataframe tbody tr th {\n",
              "        vertical-align: top;\n",
              "    }\n",
              "\n",
              "    .dataframe thead th {\n",
              "        text-align: right;\n",
              "    }\n",
              "</style>\n",
              "<table border=\"1\" class=\"dataframe\">\n",
              "  <thead>\n",
              "    <tr style=\"text-align: right;\">\n",
              "      <th></th>\n",
              "      <th>id</th>\n",
              "      <th>label</th>\n",
              "    </tr>\n",
              "  </thead>\n",
              "  <tbody>\n",
              "    <tr>\n",
              "      <th>0</th>\n",
              "      <td>f38a6374c348f90b587e046aac6079959adf3835</td>\n",
              "      <td>0</td>\n",
              "    </tr>\n",
              "    <tr>\n",
              "      <th>1</th>\n",
              "      <td>c18f2d887b7ae4f6742ee445113fa1aef383ed77</td>\n",
              "      <td>1</td>\n",
              "    </tr>\n",
              "    <tr>\n",
              "      <th>2</th>\n",
              "      <td>755db6279dae599ebb4d39a9123cce439965282d</td>\n",
              "      <td>0</td>\n",
              "    </tr>\n",
              "    <tr>\n",
              "      <th>3</th>\n",
              "      <td>bc3f0c64fb968ff4a8bd33af6971ecae77c75e08</td>\n",
              "      <td>0</td>\n",
              "    </tr>\n",
              "    <tr>\n",
              "      <th>4</th>\n",
              "      <td>068aba587a4950175d04c680d38943fd488d6a9d</td>\n",
              "      <td>0</td>\n",
              "    </tr>\n",
              "  </tbody>\n",
              "</table>\n",
              "</div>"
            ],
            "text/plain": [
              "                                         id  label\n",
              "0  f38a6374c348f90b587e046aac6079959adf3835      0\n",
              "1  c18f2d887b7ae4f6742ee445113fa1aef383ed77      1\n",
              "2  755db6279dae599ebb4d39a9123cce439965282d      0\n",
              "3  bc3f0c64fb968ff4a8bd33af6971ecae77c75e08      0\n",
              "4  068aba587a4950175d04c680d38943fd488d6a9d      0"
            ]
          },
          "metadata": {
            "tags": []
          },
          "execution_count": 8
        }
      ]
    },
    {
      "metadata": {
        "id": "RP7G5S3Z_6ZE",
        "colab_type": "code",
        "colab": {}
      },
      "cell_type": "code",
      "source": [
        "train_path = 'train'\n",
        "test_path = 'test'"
      ],
      "execution_count": 0,
      "outputs": []
    },
    {
      "metadata": {
        "id": "mFM4kbkAsBCN",
        "colab_type": "code",
        "colab": {
          "base_uri": "https://localhost:8080/",
          "height": 68
        },
        "outputId": "fe277da5-f4ce-4566-cae7-03f84de054d4"
      },
      "cell_type": "code",
      "source": [
        "train_df['label'].value_counts()"
      ],
      "execution_count": 10,
      "outputs": [
        {
          "output_type": "execute_result",
          "data": {
            "text/plain": [
              "0    130908\n",
              "1     89117\n",
              "Name: label, dtype: int64"
            ]
          },
          "metadata": {
            "tags": []
          },
          "execution_count": 10
        }
      ]
    },
    {
      "metadata": {
        "id": "f2ZTlhhPrskT",
        "colab_type": "code",
        "colab": {
          "base_uri": "https://localhost:8080/",
          "height": 349
        },
        "outputId": "78e29b09-a23d-464a-ca28-ea7d02844f46"
      },
      "cell_type": "code",
      "source": [
        "from glob import glob\n",
        "image_files = glob(train_path + '/*.tif')\n",
        "\n",
        "import matplotlib.pyplot as plt\n",
        "from keras.preprocessing import image\n",
        "plt.imshow(image.load_img(np.random.choice(image_files)))\n",
        "plt.show()"
      ],
      "execution_count": 15,
      "outputs": [
        {
          "output_type": "display_data",
          "data": {
            "image/png": "[encoded data removed]",
            "text/plain": [
              "<matplotlib.figure.Figure at 0x7f2fbf976d30>"
            ]
          },
          "metadata": {
            "tags": []
          }
        }
      ]
    },
    {
      "metadata": {
        "id": "DBLWjEnLJgGN",
        "colab_type": "code",
        "colab": {}
      },
      "cell_type": "code",
      "source": [
        "# #VGG16 Code Implementation\n",
        "# inp = Input((96,96,3)) \n",
        "\n",
        "# conv1  = Conv2D(filters=512, kernel_size=(3,3), padding=\"same\", activation=\"relu\")(inp)\n",
        "# conv2  = Conv2D(filters=512, kernel_size=(3,3), padding=\"same\", activation=\"relu\")(conv1)\n",
        "# pool1  = MaxPooling2D((2, 2))(conv2)\n",
        "\n",
        "# conv3  = Conv2D(filters=128, kernel_size=(3,3), padding=\"same\", activation=\"relu\")(pool1)\n",
        "# conv4  = Conv2D(filters=128, kernel_size=(3,3), padding=\"same\", activation=\"relu\")(conv3)\n",
        "# pool2  = MaxPooling2D((2, 2))(conv4)\n",
        "\n",
        "# conv5  = Conv2D(filters=256, kernel_size=(3,3), padding=\"same\", activation=\"relu\")(pool2)\n",
        "# conv6  = Conv2D(filters=256, kernel_size=(3,3), padding=\"same\", activation=\"relu\")(conv5)\n",
        "# conv7  = Conv2D(filters=256, kernel_size=(3,3), padding=\"same\", activation=\"relu\")(conv6)\n",
        "# pool3  = MaxPooling2D((2, 2))(conv7)\n",
        "\n",
        "# conv8  = Conv2D(filters=512, kernel_size=(3,3), padding=\"same\", activation=\"relu\")(pool3)\n",
        "# conv9  = Conv2D(filters=512, kernel_size=(3,3), padding=\"same\", activation=\"relu\")(conv8)\n",
        "# conv10 = Conv2D(filters=512, kernel_size=(3,3), padding=\"same\", activation=\"relu\")(conv9)\n",
        "# pool4  = MaxPooling2D((2, 2))(conv10)\n",
        "\n",
        "# # conv11 = Conv2D(filters=512, kernel_size=(3,3), padding=\"same\", activation=\"relu\")(pool4)\n",
        "# # conv12 = Conv2D(filters=512, kernel_size=(3,3), padding=\"same\", activation=\"relu\")(conv11)\n",
        "# # conv13 = Conv2D(filters=512, kernel_size=(3,3), padding=\"same\", activation=\"relu\")(conv12)\n",
        "# # pool5  = MaxPooling2D((2, 2))(conv13)\n",
        "\n",
        "# #flat   = Flatten()(pool5)\n",
        "# flat = GlobalAveragePooling2D()(pool4)\n",
        "# #dense1 = Dense(1000, activation=\"relu\")(flat)\n",
        "# #Drop = Dropout(0.5)(dense1)\n",
        "# #output = Dense(1000, activation=\"softmax\")(dense2)\n",
        "\n",
        "# #output = Dense(1, activation=\"sigmoid\")(Drop)\n",
        "# output = Dense(1, activation=\"sigmoid\")(flat)\n",
        "# model  = Model(inputs=inp, outputs=output)\n",
        "# model.summary()"
      ],
      "execution_count": 0,
      "outputs": []
    },
    {
      "metadata": {
        "id": "GG2actjAQoPd",
        "colab_type": "code",
        "outputId": "a8015341-2bbd-4902-9c06-eb7b2d6e76a1",
        "colab": {
          "base_uri": "https://localhost:8080/",
          "height": 442
        }
      },
      "cell_type": "code",
      "source": [
        "inp = Input((96, 96, 3))\n",
        "NasM = NASNetMobile(include_top=False, input_shape=(96, 96, 3))#, weights=None\n",
        "x = NasM(inp)\n",
        "out1 = GlobalMaxPooling2D()(x)\n",
        "out2 = GlobalAveragePooling2D()(x)\n",
        "out3 = Flatten()(x)\n",
        "out = Concatenate(axis=-1)([out1, out2, out3])\n",
        "out = Dropout(0.5)(out)\n",
        "out = Dense(1, activation=\"sigmoid\", name=\"3_\")(out)\n",
        "model = Model(inp, out)\n",
        "\n",
        "model.summary()\n"
      ],
      "execution_count": 17,
      "outputs": [
        {
          "output_type": "stream",
          "text": [
            "__________________________________________________________________________________________________\n",
            "Layer (type)                    Output Shape         Param #     Connected to                     \n",
            "==================================================================================================\n",
            "input_1 (InputLayer)            (None, 96, 96, 3)    0                                            \n",
            "__________________________________________________________________________________________________\n",
            "NASNet (Model)                  (None, 3, 3, 1056)   4269716     input_1[0][0]                    \n",
            "__________________________________________________________________________________________________\n",
            "global_max_pooling2d_1 (GlobalM (None, 1056)         0           NASNet[1][0]                     \n",
            "__________________________________________________________________________________________________\n",
            "global_average_pooling2d_1 (Glo (None, 1056)         0           NASNet[1][0]                     \n",
            "__________________________________________________________________________________________________\n",
            "flatten_1 (Flatten)             (None, 9504)         0           NASNet[1][0]                     \n",
            "__________________________________________________________________________________________________\n",
            "concatenate_5 (Concatenate)     (None, 11616)        0           global_max_pooling2d_1[0][0]     \n",
            "                                                                 global_average_pooling2d_1[0][0] \n",
            "                                                                 flatten_1[0][0]                  \n",
            "__________________________________________________________________________________________________\n",
            "dropout_1 (Dropout)             (None, 11616)        0           concatenate_5[0][0]              \n",
            "__________________________________________________________________________________________________\n",
            "3_ (Dense)                      (None, 1)            11617       dropout_1[0][0]                  \n",
            "==================================================================================================\n",
            "Total params: 4,281,333\n",
            "Trainable params: 4,244,595\n",
            "Non-trainable params: 36,738\n",
            "__________________________________________________________________________________________________\n"
          ],
          "name": "stdout"
        }
      ]
    },
    {
      "metadata": {
        "id": "xnVfezhFLHyO",
        "colab_type": "code",
        "colab": {}
      },
      "cell_type": "code",
      "source": [
        "datagen = ImageDataGenerator(rotation_range=0,\n",
        "                             width_shift_range=0.1,\n",
        "                             height_shift_range=0.1,\n",
        "                             shear_range=0.1,\n",
        "                             zoom_range=0.1, \n",
        "                             horizontal_flip=True, \n",
        "                             vertical_flip=True,\n",
        "                             preprocessing_function=preprocess_input, \n",
        "                             data_format=None, \n",
        "                             validation_split=0.2)"
      ],
      "execution_count": 0,
      "outputs": []
    },
    {
      "metadata": {
        "id": "3k_pidT-MaMM",
        "colab_type": "code",
        "outputId": "d417b508-6602-47cd-d269-b47d359857cf",
        "colab": {
          "base_uri": "https://localhost:8080/",
          "height": 34
        }
      },
      "cell_type": "code",
      "source": [
        "#flow_from_dataframe(dataframe, directory, x_col='filename', y_col='class', target_size=(256, 256), color_mode='rgb', classes=None, class_mode='categorical', batch_size=32, shuffle=True, seed=None, subset=None)\n",
        "train_generator = datagen.flow_from_dataframe(dataframe = train_df,\n",
        "                                              directory = 'train',\n",
        "                                              x_col='id', \n",
        "                                              y_col='label', \n",
        "                                              target_size=(96, 96), \n",
        "                                              color_mode='rgb',\n",
        "                                              has_ext=False,\n",
        "                                              classes=None, \n",
        "                                              class_mode='binary', \n",
        "                                              batch_size=32, \n",
        "                                              shuffle=True,\n",
        "                                              subset='training')"
      ],
      "execution_count": 19,
      "outputs": [
        {
          "output_type": "stream",
          "text": [
            "Found 176020 images belonging to 2 classes.\n"
          ],
          "name": "stdout"
        }
      ]
    },
    {
      "metadata": {
        "id": "kx6xDvJuM3Ga",
        "colab_type": "code",
        "outputId": "36ea54d9-3b9e-43fd-ff46-ffd0ae9ddd34",
        "colab": {
          "base_uri": "https://localhost:8080/",
          "height": 34
        }
      },
      "cell_type": "code",
      "source": [
        "valid_generator = datagen.flow_from_dataframe(dataframe = train_df,\n",
        "                                              directory = 'train',\n",
        "                                              x_col='id', \n",
        "                                              y_col='label', \n",
        "                                              target_size=(96, 96), \n",
        "                                              color_mode='rgb',\n",
        "                                              has_ext=False,\n",
        "                                              classes=None, \n",
        "                                              class_mode='binary', \n",
        "                                              batch_size=32, \n",
        "                                              shuffle=True,\n",
        "                                              subset='validation')"
      ],
      "execution_count": 20,
      "outputs": [
        {
          "output_type": "stream",
          "text": [
            "Found 44005 images belonging to 2 classes.\n"
          ],
          "name": "stdout"
        }
      ]
    },
    {
      "metadata": {
        "id": "058J6O9P0lfC",
        "colab_type": "code",
        "colab": {
          "base_uri": "https://localhost:8080/",
          "height": 34
        },
        "outputId": "0fe8b7ef-6f50-4eaa-d673-80275a2af0fb"
      },
      "cell_type": "code",
      "source": [
        "print(valid_generator.class_indices)"
      ],
      "execution_count": 30,
      "outputs": [
        {
          "output_type": "stream",
          "text": [
            "{0: 0, 1: 1}\n"
          ],
          "name": "stdout"
        }
      ]
    },
    {
      "metadata": {
        "id": "GbE-qHbHM9-l",
        "colab_type": "code",
        "colab": {}
      },
      "cell_type": "code",
      "source": [
        "model.compile(loss = 'binary_crossentropy',\n",
        "             metrics = ['accuracy'],\n",
        "             optimizer = Adam(0.0005))"
      ],
      "execution_count": 0,
      "outputs": []
    },
    {
      "metadata": {
        "id": "g-R7Zo2RNU34",
        "colab_type": "code",
        "outputId": "6af1910c-420a-406f-b222-8f1bbe03ef3d",
        "colab": {
          "base_uri": "https://localhost:8080/",
          "height": 357
        }
      },
      "cell_type": "code",
      "source": [
        "filepath = \"model.h5\"\n",
        "checkpoint = ModelCheckpoint(filepath, monitor='val_acc', verbose=1, \n",
        "                             save_best_only=True, mode='max')\n",
        "\n",
        "r = model.fit_generator(train_generator,\n",
        "                   validation_data = valid_generator,\n",
        "                   epochs = 5,\n",
        "                   steps_per_epoch = train_generator.n//32,\n",
        "                   validation_steps = valid_generator.n // 32,\n",
        "                   callbacks=[checkpoint])\n"
      ],
      "execution_count": 31,
      "outputs": [
        {
          "output_type": "stream",
          "text": [
            "Epoch 1/5\n",
            "5500/5500 [==============================] - 3785s 688ms/step - loss: 0.3106 - acc: 0.8849 - val_loss: 1.5798 - val_acc: 0.6861\n",
            "\n",
            "Epoch 00001: val_acc improved from -inf to 0.68607, saving model to model.h5\n",
            "Epoch 2/5\n",
            "5500/5500 [==============================] - 3731s 678ms/step - loss: 0.2305 - acc: 0.9141 - val_loss: 6.9752 - val_acc: 0.5170\n",
            "\n",
            "Epoch 00002: val_acc did not improve from 0.68607\n",
            "Epoch 3/5\n",
            "5500/5500 [==============================] - 3923s 713ms/step - loss: 0.2029 - acc: 0.9238 - val_loss: 0.7226 - val_acc: 0.8597\n",
            "\n",
            "Epoch 00003: val_acc improved from 0.68607 to 0.85971, saving model to model.h5\n",
            "Epoch 4/5\n",
            "5500/5500 [==============================] - 3770s 685ms/step - loss: 0.1796 - acc: 0.9339 - val_loss: 0.3781 - val_acc: 0.8760\n",
            "\n",
            "Epoch 00004: val_acc improved from 0.85971 to 0.87601, saving model to model.h5\n",
            "Epoch 5/5\n",
            "5500/5500 [==============================] - 3868s 703ms/step - loss: 0.1614 - acc: 0.9406 - val_loss: 0.6651 - val_acc: 0.7733\n",
            "\n",
            "Epoch 00005: val_acc did not improve from 0.87601\n"
          ],
          "name": "stdout"
        }
      ]
    },
    {
      "metadata": {
        "id": "y4esqS2-1QS0",
        "colab_type": "code",
        "colab": {
          "base_uri": "https://localhost:8080/",
          "height": 119
        },
        "outputId": "3e4f9a3a-f574-4037-ae47-37711a799868"
      },
      "cell_type": "code",
      "source": [
        "!ls"
      ],
      "execution_count": 32,
      "outputs": [
        {
          "output_type": "stream",
          "text": [
            "clouderizer\t\t\tkaggle.json\t\t   train_labels.csv\n",
            "clouderizer_init.sh\t\tmodel.h5\t\t   updatestatus\n",
            "clouderizer.jar\t\t\tsample_data\t\t   updatestatus.1\n",
            "clouderizer.service\t\tsample_submission.csv.zip  updatestatus.2\n",
            "colab_init.sh\t\t\ttest\t\t\t   updatestatus.3\n",
            "install_clouderizer_service.sh\ttrain\t\t\t   updatestatus.4\n"
          ],
          "name": "stdout"
        }
      ]
    },
    {
      "metadata": {
        "id": "6BoYCV8v_mRr",
        "colab_type": "code",
        "colab": {}
      },
      "cell_type": "code",
      "source": [
        "from google.colab import files\n",
        "files.download('model.h5')"
      ],
      "execution_count": 0,
      "outputs": []
    },
    {
      "metadata": {
        "id": "IInClVZrADcK",
        "colab_type": "code",
        "colab": {}
      },
      "cell_type": "code",
      "source": [
        ""
      ],
      "execution_count": 0,
      "outputs": []
    },
    {
      "metadata": {
        "id": "cA-Gk-osOCHH",
        "colab_type": "code",
        "colab": {
          "base_uri": "https://localhost:8080/",
          "height": 408
        },
        "outputId": "39ae887f-7ed5-4432-ff5d-619150c2d227"
      },
      "cell_type": "code",
      "source": [
        "from glob import glob\n",
        "from skimage.io import imread\n",
        "\n",
        "base_test_dir = 'test/'\n",
        "test_files = glob(os.path.join(base_test_dir,'*.tif'))\n",
        "submission = pd.DataFrame()\n",
        "file_batch = 5000\n",
        "max_idx = len(test_files)\n",
        "for idx in range(0, max_idx, file_batch):\n",
        "    print(\"Indexes: %i - %i\"%(idx, idx+file_batch))\n",
        "    test_df = pd.DataFrame({'path': test_files[idx:idx+file_batch]})\n",
        "    test_df['id'] = test_df.path.map(lambda x: x.split('/')[1].split(\".\")[0])\n",
        "    test_df['image'] = test_df['path'].map(imread)\n",
        "    K_test = np.stack(test_df[\"image\"].values)\n",
        "    K_test = (K_test - K_test.mean()) / K_test.std()\n",
        "    predictions = model.predict(K_test)\n",
        "    test_df['label'] = predictions\n",
        "    submission = pd.concat([submission, test_df[[\"id\", \"label\"]]])\n",
        "submission.head()"
      ],
      "execution_count": 37,
      "outputs": [
        {
          "output_type": "stream",
          "text": [
            "Indexes: 0 - 5000\n",
            "Indexes: 5000 - 10000\n",
            "Indexes: 10000 - 15000\n",
            "Indexes: 15000 - 20000\n",
            "Indexes: 20000 - 25000\n",
            "Indexes: 25000 - 30000\n",
            "Indexes: 30000 - 35000\n",
            "Indexes: 35000 - 40000\n",
            "Indexes: 40000 - 45000\n",
            "Indexes: 45000 - 50000\n",
            "Indexes: 50000 - 55000\n",
            "Indexes: 55000 - 60000\n"
          ],
          "name": "stdout"
        },
        {
          "output_type": "execute_result",
          "data": {
            "text/html": [
              "<div>\n",
              "<style scoped>\n",
              "    .dataframe tbody tr th:only-of-type {\n",
              "        vertical-align: middle;\n",
              "    }\n",
              "\n",
              "    .dataframe tbody tr th {\n",
              "        vertical-align: top;\n",
              "    }\n",
              "\n",
              "    .dataframe thead th {\n",
              "        text-align: right;\n",
              "    }\n",
              "</style>\n",
              "<table border=\"1\" class=\"dataframe\">\n",
              "  <thead>\n",
              "    <tr style=\"text-align: right;\">\n",
              "      <th></th>\n",
              "      <th>id</th>\n",
              "      <th>label</th>\n",
              "    </tr>\n",
              "  </thead>\n",
              "  <tbody>\n",
              "    <tr>\n",
              "      <th>0</th>\n",
              "      <td>ff4e82df62afc11db738b7787740b4d5556b8972</td>\n",
              "      <td>6.953843e-08</td>\n",
              "    </tr>\n",
              "    <tr>\n",
              "      <th>1</th>\n",
              "      <td>df005a5b3eee1b44e8874b6c8747c31666a00d89</td>\n",
              "      <td>1.063225e-05</td>\n",
              "    </tr>\n",
              "    <tr>\n",
              "      <th>2</th>\n",
              "      <td>350a1b8c3a7ce3714645bd62cfab1ee819e5e6bb</td>\n",
              "      <td>3.133241e-03</td>\n",
              "    </tr>\n",
              "    <tr>\n",
              "      <th>3</th>\n",
              "      <td>4be59590e375ca51366581304df160db5e20dab4</td>\n",
              "      <td>1.326305e-03</td>\n",
              "    </tr>\n",
              "    <tr>\n",
              "      <th>4</th>\n",
              "      <td>bb44cadcfeea10b3cfc9c15098758dd2c40a7b47</td>\n",
              "      <td>1.288078e-01</td>\n",
              "    </tr>\n",
              "  </tbody>\n",
              "</table>\n",
              "</div>"
            ],
            "text/plain": [
              "                                         id         label\n",
              "0  ff4e82df62afc11db738b7787740b4d5556b8972  6.953843e-08\n",
              "1  df005a5b3eee1b44e8874b6c8747c31666a00d89  1.063225e-05\n",
              "2  350a1b8c3a7ce3714645bd62cfab1ee819e5e6bb  3.133241e-03\n",
              "3  4be59590e375ca51366581304df160db5e20dab4  1.326305e-03\n",
              "4  bb44cadcfeea10b3cfc9c15098758dd2c40a7b47  1.288078e-01"
            ]
          },
          "metadata": {
            "tags": []
          },
          "execution_count": 37
        }
      ]
    },
    {
      "metadata": {
        "id": "BariAZTbOy32",
        "colab_type": "code",
        "colab": {}
      },
      "cell_type": "code",
      "source": [
        "submission.to_csv(\"submission.csv\", index = False, header = True)"
      ],
      "execution_count": 0,
      "outputs": []
    },
    {
      "metadata": {
        "id": "LeMeBjnvCCWh",
        "colab_type": "code",
        "colab": {
          "base_uri": "https://localhost:8080/",
          "height": 136
        },
        "outputId": "03744a1d-3415-4276-c3bc-472d9b8f5025"
      },
      "cell_type": "code",
      "source": [
        "!ls"
      ],
      "execution_count": 39,
      "outputs": [
        {
          "output_type": "stream",
          "text": [
            "clouderizer\t\t\tmodel.h5\t\t   updatestatus\n",
            "clouderizer_init.sh\t\tsample_data\t\t   updatestatus.1\n",
            "clouderizer.jar\t\t\tsample_submission.csv.zip  updatestatus.2\n",
            "clouderizer.service\t\tsubmission.csv\t\t   updatestatus.3\n",
            "colab_init.sh\t\t\ttest\t\t\t   updatestatus.4\n",
            "install_clouderizer_service.sh\ttrain\n",
            "kaggle.json\t\t\ttrain_labels.csv\n"
          ],
          "name": "stdout"
        }
      ]
    },
    {
      "metadata": {
        "id": "Mu25LkmBCBEY",
        "colab_type": "code",
        "colab": {}
      },
      "cell_type": "code",
      "source": [
        "files.download('submission.csv')"
      ],
      "execution_count": 0,
      "outputs": []
    },
    {
      "metadata": {
        "id": "nVFbAHhpCQFj",
        "colab_type": "code",
        "colab": {}
      },
      "cell_type": "code",
      "source": [
        ""
      ],
      "execution_count": 0,
      "outputs": []
    }
  ]
}